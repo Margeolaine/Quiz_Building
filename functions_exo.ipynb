{
 "cells": [
  {
   "cell_type": "code",
   "execution_count": 3,
   "metadata": {},
   "outputs": [
    {
     "name": "stdout",
     "output_type": "stream",
     "text": [
      "The result is :  5.0\n"
     ]
    }
   ],
   "source": [
    "def sqrt (number):\n",
    "    result = number ** 0.5\n",
    "    print(\"The result is : \", result)\n",
    "\n",
    "sqrt (25)\n",
    "    "
   ]
  },
  {
   "cell_type": "code",
   "execution_count": 17,
   "metadata": {},
   "outputs": [
    {
     "name": "stdout",
     "output_type": "stream",
     "text": [
      "Please recall the function and only give positive numbers\n"
     ]
    }
   ],
   "source": [
    "def savings():\n",
    "    try:\n",
    "        amount_placed = float(input(\"What amount do you wish to place?\"))\n",
    "        years = int(input(\"How many years do you want to invest for\"))\n",
    "        rate_interest = float(input(\"Which is the iterest rate of this operation?\"))\n",
    "\n",
    "        if not type(rate_interest) is int :\n",
    "            raise TypeError ()\n",
    "        elif (amount_placed < 0) or (years < 0) or (rate_interest < 0) :\n",
    "            raise ValueError ()\n",
    "        \n",
    "        i = 1 \n",
    "        amount_raised = amount_placed + (amount_placed * rate_interest)\n",
    "        while i < years:\n",
    "            amount_raised = amount_raised + (amount_raised * rate_interest) \n",
    "            i += 1   \n",
    "\n",
    "    except ValueError:\n",
    "        print (\"Please recall the function and only give positive numbers\")\n",
    "    except TypeError :\n",
    "        print (\"Please only write a decimal number for the rate interest\")\n",
    "    else:\n",
    "        print(\"the amount raised is {:.2f}\".format(amount_raised))\n",
    "   \n",
    "savings()"
   ]
  }
 ],
 "metadata": {
  "kernelspec": {
   "display_name": "base",
   "language": "python",
   "name": "python3"
  },
  "language_info": {
   "codemirror_mode": {
    "name": "ipython",
    "version": 3
   },
   "file_extension": ".py",
   "mimetype": "text/x-python",
   "name": "python",
   "nbconvert_exporter": "python",
   "pygments_lexer": "ipython3",
   "version": "3.9.7"
  }
 },
 "nbformat": 4,
 "nbformat_minor": 2
}
