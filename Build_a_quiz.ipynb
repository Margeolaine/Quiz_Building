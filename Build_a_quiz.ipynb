{
 "cells": [
  {
   "cell_type": "markdown",
   "metadata": {
    "colab_type": "text",
    "id": "FY347VxWs_bJ"
   },
   "source": [
    "# Build a quizz\n",
    "\n",
    "---\n",
    "\n",
    "\n"
   ]
  },
  {
   "cell_type": "markdown",
   "metadata": {
    "colab_type": "text",
    "id": "qJizpyqVwYnF"
   },
   "source": [
    "Let's tackle our first project together. Find a partner and start coding a quiz together! Your program should: \n",
    "\n",
    "1. Ask a question to a user via the console \n",
    "2. Verify whether the answer is correct or not \n",
    "3. If the answer is correct, you should print out: `Good job! This is the right answer`\n",
    "\n",
    "* Else, it should print out : `Too bad! that is not the correct answer`\n",
    "\n",
    "4. Ask three questions following this model.\n",
    "\n"
   ]
  },
  {
   "cell_type": "code",
   "execution_count": 4,
   "metadata": {},
   "outputs": [
    {
     "name": "stdout",
     "output_type": "stream",
     "text": [
      "Here is our quiz!\n",
      "Quelle est la capitale de la Frane?\n",
      "Your answer:  je\n",
      "Too bad! That is not the correct answer\n",
      "Combien font 4 x 5?\n",
      "Your answer:  20\n",
      "Good job! This is the right answer\n",
      "Qui est le président de le Russie?\n",
      "Your answer:  Vladimir Poutinr\n",
      "Too bad! That is not the correct answer\n"
     ]
    }
   ],
   "source": [
    "def quiz(answer):\n",
    "    entry = input ()\n",
    "    print (\"Your answer: \", entry)\n",
    "    if entry.lower() != answer:\n",
    "        print(\"Too bad! That is not the correct answer\")\n",
    "    elif entry.lower() == answer:\n",
    "        print(\"Good job! This is the right answer\") \n",
    "\n",
    "\n",
    "print(\"Here is our quiz!\")\n",
    "print(\"Quelle est la capitale de la France?\")\n",
    "quiz(\"paris\")\n",
    "\n",
    "print(\"Combien font 4 x 5?\")\n",
    "quiz (\"20\")\n",
    "\n",
    "print(\"Qui est le président de le Russie?\")\n",
    "quiz (\"vladimir poutine\")"
   ]
  },
  {
   "cell_type": "markdown",
   "metadata": {
    "colab_type": "text",
    "id": "sLMbYgaOyxiX"
   },
   "source": [
    "There's a problem with our quizz : if the user has not given the right answer, the program goes to next question. We would rather like to ask again the same question if the answer was wrong.\n",
    "\n",
    "5. Using a `while` loop, make sure that the same question will be asked again when the answer was wrong\n",
    "\n",
    "6. Rewrite your code such that this behaviour is applied to all questions."
   ]
  },
  {
   "cell_type": "code",
   "execution_count": 1,
   "metadata": {
    "colab": {
     "base_uri": "https://localhost:8080/",
     "height": 170
    },
    "colab_type": "code",
    "id": "csyxqJzBxPfN",
    "outputId": "0e671bec-2b70-424e-f110-d4792423dd7a"
   },
   "outputs": [
    {
     "name": "stdout",
     "output_type": "stream",
     "text": [
      "Here is our quiz!\n",
      "Quelle est la capitale de la Frane?\n",
      "Your answer:  Paris\n",
      "Good job! This is the right answer\n",
      "Combien font 4 x 5?\n",
      "Your answer:  20\n",
      "Good job! This is the right answer\n",
      "Qui est le président de le Russie?\n",
      "Your answer:  nkldlf\n",
      "Too bad! That is not the correct answer\n",
      "Your answer:  klr\n",
      "Too bad! That is not the correct answer\n",
      "Your answer:  vladimir poutine\n",
      "Good job! This is the right answer\n"
     ]
    }
   ],
   "source": [
    "def quiz(answer):\n",
    "    entry = input ()\n",
    "    print (\"Your answer: \", entry)\n",
    "    \n",
    "    while entry.lower() != answer:\n",
    "        print(\"Too bad! That is not the correct answer\")\n",
    "        entry = input ()\n",
    "        print (\"Your answer: \", entry)\n",
    "    \n",
    "    if entry.lower() == answer:\n",
    "        print(\"Good job! This is the right answer\") \n",
    "    \n",
    "\n",
    "print(\"Here is our quiz!\")\n",
    "print(\"Quelle est la capitale de la France?\")\n",
    "quiz(\"paris\")\n",
    "\n",
    "print(\"Combien font 4 x 5?\")\n",
    "quiz (\"20\")\n",
    "\n",
    "print(\"Qui est le président de le Russie?\")\n",
    "quiz (\"vladimir poutine\")"
   ]
  },
  {
   "cell_type": "markdown",
   "metadata": {
    "colab_type": "text",
    "id": "nh4voWn8x3dM"
   },
   "source": [
    "Now, we would like to tackle a last problem : we want to allow only 3 wrong answers (among all questions).\n",
    "\n",
    "7. Improve your code : if the user makes 3 wrong answers, the program should stop and print (\"Too bad, you lost the game !\")\n"
   ]
  },
  {
   "cell_type": "code",
   "execution_count": 4,
   "metadata": {
    "colab": {
     "base_uri": "https://localhost:8080/",
     "height": 170
    },
    "colab_type": "code",
    "id": "adKPQe1Hsi2g",
    "outputId": "45d36fc8-90ae-4f00-b73a-73b1e6e57e6e",
    "tags": []
   },
   "outputs": [
    {
     "name": "stdout",
     "output_type": "stream",
     "text": [
      "Here is our quiz!\n",
      "Quelle est la capitale de la France?\n",
      "Your answer:  Paris\n",
      "Good job! This is the right answer\n",
      "Combien font 4 x 5?\n",
      "Your answer:  4\n",
      "Sorry! You have 2 lives left!\n",
      "Your answer:  8\n",
      "Sorry! You have 1 lives left!\n",
      "Your answer:  4\n",
      "Sorry! You have 0 lives left!\n",
      "Oh no you lost!!!!\n",
      "Qui est le président de le Russie?\n",
      "Your answer:  iuj\n",
      "Sorry! You have 2 lives left!\n",
      "Your answer:  k\n",
      "Sorry! You have 1 lives left!\n",
      "Your answer:  o\n",
      "Sorry! You have 0 lives left!\n",
      "Oh no you lost!!!!\n"
     ]
    },
    {
     "ename": "",
     "evalue": "",
     "output_type": "error",
     "traceback": [
      "\u001b[1;31mThe Kernel crashed while executing code in the the current cell or a previous cell. Please review the code in the cell(s) to identify a possible cause of the failure. Click <a href='https://aka.ms/vscodeJupyterKernelCrash'>here</a> for more info. View Jupyter <a href='command:jupyter.viewOutput'>log</a> for further details."
     ]
    }
   ],
   "source": [
    "def question(answer) :\n",
    "    entry = input ()\n",
    "    print (\"Your answer: \", entry)\n",
    "    if entry.lower() != answer:\n",
    "        print(\"Too bad! That is not the correct answer\")\n",
    "        lives = lives - 1\n",
    "        \n",
    "    elif entry.lower() == answer:\n",
    "        print(\"Good job! This is the right answer\") \n",
    "\n",
    "\n",
    "def quiz(answer,lives):\n",
    "    entry = input ()\n",
    "    print (\"Your answer: \", entry)\n",
    "    \n",
    "    while lives > 0 :\n",
    "        if entry.lower() != answer :\n",
    "            lives = lives -1\n",
    "            print(\"Sorry! You have {} lives left!\".format((lives)))\n",
    "            if lives == 0 :\n",
    "                print(\"Oh no you lost!!!!\")\n",
    "            else :\n",
    "                entry = input ()\n",
    "                print (\"Your answer: \", entry)\n",
    "        elif entry.lower() == answer :\n",
    "            print(\"Good job! This is the right answer\") \n",
    "            break\n",
    "    return lives\n",
    "\n",
    "print(\"Here is our quiz!\")\n",
    "print(\"Quelle est la capitale de la France?\")\n",
    "quiz(\"paris\",lives)\n",
    "\n",
    "print(\"Combien font 4 x 5?\")\n",
    "quiz (\"20\", lives)\n",
    "\n",
    "print(\"Qui est le président de le Russie?\")\n",
    "quiz (\"vladimir poutine\", lives)"
   ]
  },
  {
   "cell_type": "code",
   "execution_count": null,
   "metadata": {
    "colab": {},
    "colab_type": "code",
    "id": "rA-XJKh-orgc"
   },
   "outputs": [],
   "source": []
  }
 ],
 "metadata": {
  "colab": {
   "name": "Construire un quiz - SOLUTIONS S1-1A.ipynb",
   "provenance": []
  },
  "kernelspec": {
   "display_name": "Python 3.7.6 64-bit (conda)",
   "metadata": {
    "interpreter": {
     "hash": "81922e58b9f0765dc46a2f2aae6246790c134fff12037142dafdcc4c4ca17485"
    }
   },
   "name": "python3"
  },
  "language_info": {
   "codemirror_mode": {
    "name": "ipython",
    "version": 3
   },
   "file_extension": ".py",
   "mimetype": "text/x-python",
   "name": "python",
   "nbconvert_exporter": "python",
   "pygments_lexer": "ipython3",
   "version": "3.9.7"
  }
 },
 "nbformat": 4,
 "nbformat_minor": 1
}
